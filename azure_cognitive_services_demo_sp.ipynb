{
 "cells": [
  {
   "cell_type": "markdown",
   "metadata": {},
   "source": [
    "# Speech (STT)"
   ]
  },
  {
   "cell_type": "markdown",
   "metadata": {},
   "source": [
    "Install necessary libraries"
   ]
  },
  {
   "cell_type": "code",
   "execution_count": 2,
   "metadata": {},
   "outputs": [
    {
     "name": "stdout",
     "output_type": "stream",
     "text": [
      "Collecting pydub\n",
      "  Using cached pydub-0.24.1-py2.py3-none-any.whl (30 kB)\n",
      "Installing collected packages: pydub\n",
      "Successfully installed pydub-0.24.1\n"
     ]
    }
   ],
   "source": [
    "#!pip install --upgrade --trusted-host pypi.org --trusted-host files.pythonhosted.org pydub"
   ]
  },
  {
   "cell_type": "code",
   "execution_count": 6,
   "metadata": {},
   "outputs": [
    {
     "name": "stdout",
     "output_type": "stream",
     "text": [
      "Requirement already satisfied: azure-cognitiveservices-speech in c:\\users\\easonlai\\anaconda3\\lib\\site-packages (1.14.0)\n"
     ]
    }
   ],
   "source": [
    "#!pip install --trusted-host pypi.org --trusted-host files.pythonhosted.org azure-cognitiveservices-speech"
   ]
  },
  {
   "cell_type": "markdown",
   "metadata": {},
   "source": [
    "Import necessary libraries"
   ]
  },
  {
   "cell_type": "code",
   "execution_count": 3,
   "metadata": {},
   "outputs": [],
   "source": [
    "from pydub import AudioSegment\n",
    "from pydub.utils import make_chunks\n",
    "import azure.cognitiveservices.speech as speechsdk\n",
    "from playsound import playsound\n",
    "import time"
   ]
  },
  {
   "cell_type": "markdown",
   "metadata": {},
   "source": [
    "Split wav into 15 seconds chunk"
   ]
  },
  {
   "cell_type": "code",
   "execution_count": 3,
   "metadata": {},
   "outputs": [
    {
     "name": "stdout",
     "output_type": "stream",
     "text": [
      "exporting ./wav_chunk/chunk0.wav\n",
      "exporting ./wav_chunk/chunk1.wav\n",
      "exporting ./wav_chunk/chunk2.wav\n",
      "exporting ./wav_chunk/chunk3.wav\n",
      "exporting ./wav_chunk/chunk4.wav\n",
      "exporting ./wav_chunk/chunk5.wav\n",
      "exporting ./wav_chunk/chunk6.wav\n",
      "exporting ./wav_chunk/chunk7.wav\n",
      "exporting ./wav_chunk/chunk8.wav\n",
      "exporting ./wav_chunk/chunk9.wav\n",
      "exporting ./wav_chunk/chunk10.wav\n",
      "exporting ./wav_chunk/chunk11.wav\n",
      "exporting ./wav_chunk/chunk12.wav\n",
      "exporting ./wav_chunk/chunk13.wav\n",
      "exporting ./wav_chunk/chunk14.wav\n",
      "exporting ./wav_chunk/chunk15.wav\n",
      "exporting ./wav_chunk/chunk16.wav\n",
      "exporting ./wav_chunk/chunk17.wav\n",
      "exporting ./wav_chunk/chunk18.wav\n",
      "exporting ./wav_chunk/chunk19.wav\n",
      "exporting ./wav_chunk/chunk20.wav\n",
      "exporting ./wav_chunk/chunk21.wav\n",
      "exporting ./wav_chunk/chunk22.wav\n",
      "exporting ./wav_chunk/chunk23.wav\n",
      "exporting ./wav_chunk/chunk24.wav\n",
      "exporting ./wav_chunk/chunk25.wav\n",
      "exporting ./wav_chunk/chunk26.wav\n",
      "exporting ./wav_chunk/chunk27.wav\n",
      "exporting ./wav_chunk/chunk28.wav\n",
      "exporting ./wav_chunk/chunk29.wav\n",
      "exporting ./wav_chunk/chunk30.wav\n",
      "exporting ./wav_chunk/chunk31.wav\n",
      "exporting ./wav_chunk/chunk32.wav\n",
      "exporting ./wav_chunk/chunk33.wav\n",
      "exporting ./wav_chunk/chunk34.wav\n",
      "exporting ./wav_chunk/chunk35.wav\n",
      "exporting ./wav_chunk/chunk36.wav\n",
      "exporting ./wav_chunk/chunk37.wav\n",
      "exporting ./wav_chunk/chunk38.wav\n",
      "exporting ./wav_chunk/chunk39.wav\n",
      "exporting ./wav_chunk/chunk40.wav\n",
      "exporting ./wav_chunk/chunk41.wav\n",
      "exporting ./wav_chunk/chunk42.wav\n",
      "exporting ./wav_chunk/chunk43.wav\n",
      "exporting ./wav_chunk/chunk44.wav\n",
      "exporting ./wav_chunk/chunk45.wav\n",
      "exporting ./wav_chunk/chunk46.wav\n",
      "exporting ./wav_chunk/chunk47.wav\n",
      "exporting ./wav_chunk/chunk48.wav\n",
      "exporting ./wav_chunk/chunk49.wav\n",
      "exporting ./wav_chunk/chunk50.wav\n",
      "exporting ./wav_chunk/chunk51.wav\n",
      "exporting ./wav_chunk/chunk52.wav\n",
      "exporting ./wav_chunk/chunk53.wav\n",
      "exporting ./wav_chunk/chunk54.wav\n",
      "exporting ./wav_chunk/chunk55.wav\n",
      "exporting ./wav_chunk/chunk56.wav\n",
      "exporting ./wav_chunk/chunk57.wav\n",
      "exporting ./wav_chunk/chunk58.wav\n",
      "exporting ./wav_chunk/chunk59.wav\n",
      "exporting ./wav_chunk/chunk60.wav\n"
     ]
    }
   ],
   "source": [
    "myaudio = AudioSegment.from_file(\"./wav/test_voice_02.wav\" , \"wav\") \n",
    "chunk_length_ms = 15000 # pydub calculates in millisec\n",
    "chunks = make_chunks(myaudio, chunk_length_ms) #Make chunks of one sec\n",
    "\n",
    "#Export all of the individual chunks as wav files\n",
    "\n",
    "for i, chunk in enumerate(chunks):\n",
    "    chunk_name = \"./wav_chunk/chunk{0}.wav\".format(i)\n",
    "    print(\"exporting\", chunk_name)\n",
    "    chunk.export(chunk_name, format=\"wav\")"
   ]
  },
  {
   "cell_type": "code",
   "execution_count": 6,
   "metadata": {},
   "outputs": [],
   "source": [
    "my_subscription=\"PLEASE_ENTER_YOUR_OWN_KEY\"\n",
    "my_region=\"southeastasia\""
   ]
  },
  {
   "cell_type": "code",
   "execution_count": 24,
   "metadata": {},
   "outputs": [],
   "source": [
    "playsound('./wav_chunk/chunk2.wav')"
   ]
  },
  {
   "cell_type": "code",
   "execution_count": 10,
   "metadata": {},
   "outputs": [
    {
     "name": "stdout",
     "output_type": "stream",
     "text": [
      "我畀個機會你不惜一切去保護心愛嘅人，你會犧牲啲咩？\n"
     ]
    }
   ],
   "source": [
    "def from_file():\n",
    "    speech_config = speechsdk.SpeechConfig(subscription=my_subscription, region=my_region)\n",
    "    speech_config.speech_recognition_language=\"zh-HK\"\n",
    "    audio_input = speechsdk.audio.AudioConfig(filename=\"./wav_chunk/chunk2.wav\")\n",
    "    speech_recognizer = speechsdk.SpeechRecognizer(speech_config=speech_config, audio_config=audio_input)\n",
    "    \n",
    "    result = speech_recognizer.recognize_once_async().get()\n",
    "    print(result.text)\n",
    "\n",
    "from_file()"
   ]
  },
  {
   "cell_type": "code",
   "execution_count": 19,
   "metadata": {},
   "outputs": [],
   "source": [
    "def speech_recognize_continuous_from_file():\n",
    "    \"\"\"performs continuous speech recognition with input from an audio file\"\"\"\n",
    "    speech_config = speechsdk.SpeechConfig(subscription=my_subscription, region=my_region)\n",
    "    speech_config.speech_recognition_language=\"zh-HK\"\n",
    "    audio_config = speechsdk.audio.AudioConfig(filename=\"./wav_chunk/chunk2.wav\")\n",
    " \n",
    "    speech_recognizer = speechsdk.SpeechRecognizer(speech_config=speech_config, audio_config=audio_config)\n",
    " \n",
    "    done = False\n",
    " \n",
    "    def stop_cb(evt):\n",
    "        \"\"\"callback that stops continuous recognition upon receiving an event `evt`\"\"\"\n",
    "        print('CLOSING on {}'.format(evt))\n",
    "        speech_recognizer.stop_continuous_recognition()\n",
    "        nonlocal done\n",
    "        done = True\n",
    " \n",
    "    # Connect callbacks to the events fired by the speech recognizer\n",
    "    speech_recognizer.recognizing.connect(lambda evt: print('RECOGNIZING: {}'.format(evt)))\n",
    "    speech_recognizer.recognized.connect(lambda evt: print('RECOGNIZED: {}'.format(evt)))\n",
    "    speech_recognizer.session_started.connect(lambda evt: print('SESSION STARTED: {}'.format(evt)))\n",
    "    speech_recognizer.session_stopped.connect(lambda evt: print('SESSION STOPPED {}'.format(evt)))\n",
    "    speech_recognizer.canceled.connect(lambda evt: print('CANCELED {}'.format(evt)))\n",
    "    # stop continuous recognition on either session stopped or canceled events\n",
    "    speech_recognizer.session_stopped.connect(stop_cb)\n",
    "    speech_recognizer.canceled.connect(stop_cb)\n",
    " \n",
    "    # Start continuous speech recognition\n",
    "    speech_recognizer.start_continuous_recognition()\n",
    "    while not done:\n",
    "        time.sleep(.5)"
   ]
  },
  {
   "cell_type": "code",
   "execution_count": 22,
   "metadata": {},
   "outputs": [
    {
     "name": "stdout",
     "output_type": "stream",
     "text": [
      "SESSION STARTED: SessionEventArgs(session_id=b8319dbb2793425da85776274a6486cb)\n",
      "RECOGNIZING: SpeechRecognitionEventArgs(session_id=b8319dbb2793425da85776274a6486cb, result=SpeechRecognitionResult(result_id=e4af0e5862a64cc78addca710f12202c, text=\"我畀個\", reason=ResultReason.RecognizingSpeech))\n",
      "RECOGNIZING: SpeechRecognitionEventArgs(session_id=b8319dbb2793425da85776274a6486cb, result=SpeechRecognitionResult(result_id=c460f2a4572142a89706a0489eec08b5, text=\"我畀個機會\", reason=ResultReason.RecognizingSpeech))\n",
      "RECOGNIZING: SpeechRecognitionEventArgs(session_id=b8319dbb2793425da85776274a6486cb, result=SpeechRecognitionResult(result_id=4e8a52bfcb2b4fd6b3769c8b01ed32d5, text=\"我畀個機會你\", reason=ResultReason.RecognizingSpeech))\n",
      "RECOGNIZING: SpeechRecognitionEventArgs(session_id=b8319dbb2793425da85776274a6486cb, result=SpeechRecognitionResult(result_id=683ad093bce3488fafc75e737233f89d, text=\"我畀個機會你不熄\", reason=ResultReason.RecognizingSpeech))\n",
      "RECOGNIZING: SpeechRecognitionEventArgs(session_id=b8319dbb2793425da85776274a6486cb, result=SpeechRecognitionResult(result_id=48c1e082b5fa41dbb0b7e7c40f034f40, text=\"我畀個機會你不惜\", reason=ResultReason.RecognizingSpeech))\n",
      "RECOGNIZING: SpeechRecognitionEventArgs(session_id=b8319dbb2793425da85776274a6486cb, result=SpeechRecognitionResult(result_id=413eaec047dd43ceb707b01eb6966609, text=\"我畀個機會你不惜一切去\", reason=ResultReason.RecognizingSpeech))\n",
      "RECOGNIZING: SpeechRecognitionEventArgs(session_id=b8319dbb2793425da85776274a6486cb, result=SpeechRecognitionResult(result_id=71622469cffd48bcaeded41c34c06240, text=\"我畀個機會你不惜一切去保護\", reason=ResultReason.RecognizingSpeech))\n",
      "RECOGNIZING: SpeechRecognitionEventArgs(session_id=b8319dbb2793425da85776274a6486cb, result=SpeechRecognitionResult(result_id=d18b5cba053045bbaa73d8bfc3fdc1e0, text=\"我畀個機會你不惜一切去保護心愛嘅人\", reason=ResultReason.RecognizingSpeech))\n",
      "RECOGNIZING: SpeechRecognitionEventArgs(session_id=b8319dbb2793425da85776274a6486cb, result=SpeechRecognitionResult(result_id=83302c5b397e443d963b6569d3755188, text=\"我畀個機會你不惜一切去保護心愛嘅人呢\", reason=ResultReason.RecognizingSpeech))\n",
      "RECOGNIZING: SpeechRecognitionEventArgs(session_id=b8319dbb2793425da85776274a6486cb, result=SpeechRecognitionResult(result_id=64ca7217c8f34889b39d54878ca298f0, text=\"我畀個機會你不惜一切去保護心愛嘅人嚟\", reason=ResultReason.RecognizingSpeech))\n",
      "RECOGNIZING: SpeechRecognitionEventArgs(session_id=b8319dbb2793425da85776274a6486cb, result=SpeechRecognitionResult(result_id=075c6c8d57dd486ab386e3b00fabf110, text=\"我畀個機會你不惜一切去保護心愛嘅人你會\", reason=ResultReason.RecognizingSpeech))\n",
      "RECOGNIZING: SpeechRecognitionEventArgs(session_id=b8319dbb2793425da85776274a6486cb, result=SpeechRecognitionResult(result_id=b8882e1295d647fb97c0d8eb057d0807, text=\"我畀個機會你不惜一切去保護心愛嘅人你會起薪點\", reason=ResultReason.RecognizingSpeech))\n",
      "RECOGNIZING: SpeechRecognitionEventArgs(session_id=b8319dbb2793425da85776274a6486cb, result=SpeechRecognitionResult(result_id=d6bcb00d3c53424f8e5b1641ccc6cf61, text=\"我畀個機會你不惜一切去保護心愛嘅人你會犧牲啲咩\", reason=ResultReason.RecognizingSpeech))\n",
      "RECOGNIZED: SpeechRecognitionEventArgs(session_id=b8319dbb2793425da85776274a6486cb, result=SpeechRecognitionResult(result_id=14d10346d84f42c2944ae5e3bcc683ad, text=\"我畀個機會你不惜一切去保護心愛嘅人，你會犧牲啲咩？\", reason=ResultReason.RecognizedSpeech))\n",
      "RECOGNIZING: SpeechRecognitionEventArgs(session_id=b8319dbb2793425da85776274a6486cb, result=SpeechRecognitionResult(result_id=8bd4feb8109046e9b98a37e942eb6c23, text=\"係咪\", reason=ResultReason.RecognizingSpeech))\n",
      "RECOGNIZING: SpeechRecognitionEventArgs(session_id=b8319dbb2793425da85776274a6486cb, result=SpeechRecognitionResult(result_id=8dde6ac82fb546adb345164189f94ad1, text=\"係咪無論我\", reason=ResultReason.RecognizingSpeech))\n",
      "RECOGNIZING: SpeechRecognitionEventArgs(session_id=b8319dbb2793425da85776274a6486cb, result=SpeechRecognitionResult(result_id=e82116e6c27541209b3df81e106dae39, text=\"係咪無論我幾努力\", reason=ResultReason.RecognizingSpeech))\n",
      "RECOGNIZING: SpeechRecognitionEventArgs(session_id=b8319dbb2793425da85776274a6486cb, result=SpeechRecognitionResult(result_id=4816a886c13448f3b776bfdd773ff8f5, text=\"係咪無論我幾努力永遠都要\", reason=ResultReason.RecognizingSpeech))\n",
      "RECOGNIZING: SpeechRecognitionEventArgs(session_id=b8319dbb2793425da85776274a6486cb, result=SpeechRecognitionResult(result_id=6def24e406364657bf54b0060f8dc66f, text=\"係咪無論我幾努力永遠都要輸俾\", reason=ResultReason.RecognizingSpeech))\n",
      "RECOGNIZING: SpeechRecognitionEventArgs(session_id=b8319dbb2793425da85776274a6486cb, result=SpeechRecognitionResult(result_id=0b1f53a372b947678aa9c2244d3aefcc, text=\"係咪無論我幾努力永遠都要輸俾李\", reason=ResultReason.RecognizingSpeech))\n",
      "RECOGNIZING: SpeechRecognitionEventArgs(session_id=b8319dbb2793425da85776274a6486cb, result=SpeechRecognitionResult(result_id=911b60ad98b44373a2f0a5f8d264c4f5, text=\"係咪無論我幾努力永遠都要輸俾你\", reason=ResultReason.RecognizingSpeech))\n",
      "RECOGNIZING: SpeechRecognitionEventArgs(session_id=b8319dbb2793425da85776274a6486cb, result=SpeechRecognitionResult(result_id=37aea31b94c7461397f7efd48824d236, text=\"係咪無論我幾努力永遠都要輸俾你走\", reason=ResultReason.RecognizingSpeech))\n",
      "RECOGNIZING: SpeechRecognitionEventArgs(session_id=b8319dbb2793425da85776274a6486cb, result=SpeechRecognitionResult(result_id=c88d85de7c9c4521a2e1cb48a2e9b032, text=\"係咪無論我幾努力永遠都要輸俾你就連我\", reason=ResultReason.RecognizingSpeech))\n",
      "RECOGNIZING: SpeechRecognitionEventArgs(session_id=b8319dbb2793425da85776274a6486cb, result=SpeechRecognitionResult(result_id=1269fc716e014fcf965c8c92953a77bf, text=\"係咪無論我幾努力永遠都要輸俾你就連我鍾意嘅\", reason=ResultReason.RecognizingSpeech))\n",
      "RECOGNIZING: SpeechRecognitionEventArgs(session_id=b8319dbb2793425da85776274a6486cb, result=SpeechRecognitionResult(result_id=c777859474e24ff0bc0f007489fbfc1d, text=\"係咪無論我幾努力永遠都要輸俾你就連我鍾意嘅人\", reason=ResultReason.RecognizingSpeech))\n",
      "RECOGNIZED: SpeechRecognitionEventArgs(session_id=b8319dbb2793425da85776274a6486cb, result=SpeechRecognitionResult(result_id=01a847ab9d194a218884aabf7432999e, text=\"係咪無論我幾努力，永遠都要輸俾你，就連我鍾意嘅人。\", reason=ResultReason.RecognizedSpeech))\n",
      "RECOGNIZING: SpeechRecognitionEventArgs(session_id=b8319dbb2793425da85776274a6486cb, result=SpeechRecognitionResult(result_id=1517c5b32dc0421f9162f8c8a97cd3cb, text=\"都係\", reason=ResultReason.RecognizingSpeech))\n",
      "RECOGNIZING: SpeechRecognitionEventArgs(session_id=b8319dbb2793425da85776274a6486cb, result=SpeechRecognitionResult(result_id=a41ed058e1e84346a1b3535df5a1e6ba, text=\"都係一樣\", reason=ResultReason.RecognizingSpeech))\n",
      "RECOGNIZED: SpeechRecognitionEventArgs(session_id=b8319dbb2793425da85776274a6486cb, result=SpeechRecognitionResult(result_id=5d25208048c6450d82b30ebdbe4c3f35, text=\"都係一樣。\", reason=ResultReason.RecognizedSpeech))\n",
      "RECOGNIZING: SpeechRecognitionEventArgs(session_id=b8319dbb2793425da85776274a6486cb, result=SpeechRecognitionResult(result_id=b2309727c8a4460198a40a6f29b31a21, text=\"老鼠\", reason=ResultReason.RecognizingSpeech))\n",
      "RECOGNIZING: SpeechRecognitionEventArgs(session_id=b8319dbb2793425da85776274a6486cb, result=SpeechRecognitionResult(result_id=024ff8c9ce0f4ebfb49b9a7981660ec3, text=\"樓主\", reason=ResultReason.RecognizingSpeech))\n",
      "RECOGNIZING: SpeechRecognitionEventArgs(session_id=b8319dbb2793425da85776274a6486cb, result=SpeechRecognitionResult(result_id=edb7fdd96adf43f28a0f7ce0cecb4384, text=\"樓主命運\", reason=ResultReason.RecognizingSpeech))\n",
      "RECOGNIZED: SpeechRecognitionEventArgs(session_id=b8319dbb2793425da85776274a6486cb, result=SpeechRecognitionResult(result_id=ef9df5f83ebc4d49abe007cd19ca02a7, text=\"樓主命運。\", reason=ResultReason.RecognizedSpeech))\n",
      "CANCELED SpeechRecognitionCanceledEventArgs(session_id=b8319dbb2793425da85776274a6486cb, result=SpeechRecognitionResult(result_id=e706ed391f3d467f9b509c0062097485, text=\"\", reason=ResultReason.Canceled))\n",
      "CLOSING on SpeechRecognitionCanceledEventArgs(session_id=b8319dbb2793425da85776274a6486cb, result=SpeechRecognitionResult(result_id=e706ed391f3d467f9b509c0062097485, text=\"\", reason=ResultReason.Canceled))\n",
      "SESSION STOPPED SessionEventArgs(session_id=b8319dbb2793425da85776274a6486cb)\n",
      "CLOSING on SessionEventArgs(session_id=b8319dbb2793425da85776274a6486cb)\n"
     ]
    }
   ],
   "source": [
    "speech_recognize_continuous_from_file()"
   ]
  },
  {
   "cell_type": "markdown",
   "metadata": {},
   "source": [
    "# Speech TTS"
   ]
  },
  {
   "cell_type": "code",
   "execution_count": 8,
   "metadata": {},
   "outputs": [],
   "source": [
    "from azure.cognitiveservices.speech import AudioDataStream, SpeechConfig, SpeechSynthesizer, SpeechSynthesisOutputFormat\n",
    "from azure.cognitiveservices.speech.audio import AudioOutputConfig"
   ]
  },
  {
   "cell_type": "code",
   "execution_count": 13,
   "metadata": {},
   "outputs": [],
   "source": [
    "speech_config = SpeechConfig(subscription=my_subscription, region=my_region)\n",
    "language = \"zh-HK\"\n",
    "speech_config.speech_synthesis_language = language"
   ]
  },
  {
   "cell_type": "code",
   "execution_count": 14,
   "metadata": {},
   "outputs": [],
   "source": [
    "audio_config = AudioOutputConfig(filename=\"./voice/tts_file1.wav\")"
   ]
  },
  {
   "cell_type": "code",
   "execution_count": 15,
   "metadata": {},
   "outputs": [
    {
     "data": {
      "text/plain": [
       "<azure.cognitiveservices.speech.ResultFuture at 0x18ebc3fba60>"
      ]
     },
     "execution_count": 15,
     "metadata": {},
     "output_type": "execute_result"
    }
   ],
   "source": [
    "synthesizer = SpeechSynthesizer(speech_config=speech_config, audio_config=audio_config)\n",
    "synthesizer.speak_text_async(\"我畀個機會你不惜一切去保護心愛嘅人，你會犧牲啲咩？\")"
   ]
  },
  {
   "cell_type": "code",
   "execution_count": 4,
   "metadata": {},
   "outputs": [],
   "source": [
    "playsound('./voice/tts_file1.wav')"
   ]
  },
  {
   "cell_type": "code",
   "execution_count": null,
   "metadata": {},
   "outputs": [],
   "source": []
  }
 ],
 "metadata": {
  "kernelspec": {
   "display_name": "Python 3",
   "language": "python",
   "name": "python3"
  },
  "language_info": {
   "codemirror_mode": {
    "name": "ipython",
    "version": 3
   },
   "file_extension": ".py",
   "mimetype": "text/x-python",
   "name": "python",
   "nbconvert_exporter": "python",
   "pygments_lexer": "ipython3",
   "version": "3.8.5"
  }
 },
 "nbformat": 4,
 "nbformat_minor": 4
}
